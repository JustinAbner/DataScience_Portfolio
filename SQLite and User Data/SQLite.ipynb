{
 "cells": [
  {
   "cell_type": "code",
   "execution_count": 1,
   "id": "6e4a489c",
   "metadata": {},
   "outputs": [],
   "source": [
    "import sqlite3 as sql"
   ]
  },
  {
   "cell_type": "code",
   "execution_count": 2,
   "id": "0f5d411e",
   "metadata": {},
   "outputs": [],
   "source": [
    "# Making data to later enter into database\n",
    "data = [('Joe','7746 Dogwood Street','Tupelo','MS','38801','(767) 878-7941'),\n",
    "        ('Ally','9102 High Noon St','Champaign','FL','61821','(449) 921-7791'),\n",
    "        ('Mike','873 Taylor Dr','Champaign','DC','28803','(491) 582-1743'),\n",
    "        ('Sally','9193 Court Rd','Villa Rica','MA','30180','(460) 388-5458'),\n",
    "        ('Kim','8146 Whitemarsh Ave','Richardson','VA','75080','(447) 739-5440'),\n",
    "        ('Gary','46 Cleveland Ave','Medford','GA','02155','(830) 417-8630'),\n",
    "        ('Kyler','9650 10th Dr','Enterprise','OH','36330','(378) 962-0873'),\n",
    "        ('Violet','86 Willow Ave','High Point','AK','28265','(373) 899-6367'),\n",
    "        ('Muhammad','364 West Purple Finch Street','Haines City','CO','32725','(221) 396-3541'),\n",
    "        ('Ricky','9421 Manor Station Lane','Deltona','MD','33844','(514) 493-4446')]"
   ]
  },
  {
   "cell_type": "code",
   "execution_count": 3,
   "id": "4726528e",
   "metadata": {},
   "outputs": [],
   "source": [
    "# Creating an initial connection\n",
    "connection = sql.connect('User_Info.db')\n",
    "\n",
    "# Cursor created to fetch results and initiate SQL statements\n",
    "cursor = connection.cursor()"
   ]
  },
  {
   "cell_type": "code",
   "execution_count": 4,
   "id": "f40c00a6",
   "metadata": {},
   "outputs": [],
   "source": [
    "# Creating table and entering table headers\n",
    "cursor.execute('CREATE TABLE IF NOT EXISTS New_Users (Name TEXT, Address TEXT, City TEXT, State TEXT, Zip INTEGER, Phone_Number INTEGER)')\n",
    "\n",
    "# Inserting data into the table\n",
    "cursor.executemany('INSERT INTO New_Users values (?,?,?,?,?,?)', data)\n",
    "\n",
    "# Committing the data\n",
    "connection.commit()"
   ]
  },
  {
   "cell_type": "code",
   "execution_count": 5,
   "id": "e6a11100",
   "metadata": {},
   "outputs": [
    {
     "name": "stdout",
     "output_type": "stream",
     "text": [
      "('Joe', '7746 Dogwood Street', 'Tupelo', 'MS', 38801, '(767) 878-7941')\n",
      "('Ally', '9102 High Noon St', 'Champaign', 'FL', 61821, '(449) 921-7791')\n",
      "('Muhammad', '364 West Purple Finch Street', 'Haines City', 'CO', 32725, '(221) 396-3541')\n",
      "('Ricky', '9421 Manor Station Lane', 'Deltona', 'MD', 33844, '(514) 493-4446')\n"
     ]
    }
   ],
   "source": [
    "# For loop to read each SQL line and output a data that can be read\n",
    "# Selecting only the users who have phone numbers that end with a 1 or from MD\n",
    "for row in cursor.execute('SELECT * FROM New_Users WHERE Phone_Number LIKE \"%1\" OR State = \"MD\"'):\n",
    "    print(row)\n",
    "\n",
    "# Closing the connection\n",
    "connection.close()"
   ]
  }
 ],
 "metadata": {
  "kernelspec": {
   "display_name": "Python 3 (ipykernel)",
   "language": "python",
   "name": "python3"
  },
  "language_info": {
   "codemirror_mode": {
    "name": "ipython",
    "version": 3
   },
   "file_extension": ".py",
   "mimetype": "text/x-python",
   "name": "python",
   "nbconvert_exporter": "python",
   "pygments_lexer": "ipython3",
   "version": "3.11.4"
  }
 },
 "nbformat": 4,
 "nbformat_minor": 5
}
