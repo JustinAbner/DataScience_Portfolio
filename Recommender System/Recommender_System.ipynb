{
 "cells": [
  {
   "cell_type": "markdown",
   "id": "b2485cfe",
   "metadata": {},
   "source": [
    "# Importing necessary packages"
   ]
  },
  {
   "cell_type": "code",
   "execution_count": 1,
   "id": "6d4d85cb",
   "metadata": {},
   "outputs": [],
   "source": [
    "import pandas as pd\n",
    "import numpy as np\n",
    "from sklearn.feature_extraction.text import CountVectorizer\n",
    "from sklearn.metrics.pairwise import cosine_similarity"
   ]
  },
  {
   "cell_type": "markdown",
   "id": "99de485e",
   "metadata": {},
   "source": [
    "# Loading in the data"
   ]
  },
  {
   "cell_type": "code",
   "execution_count": 2,
   "id": "02a28469",
   "metadata": {
    "scrolled": true
   },
   "outputs": [
    {
     "name": "stdout",
     "output_type": "stream",
     "text": [
      "(9742, 3)\n"
     ]
    },
    {
     "data": {
      "text/html": [
       "<div>\n",
       "<style scoped>\n",
       "    .dataframe tbody tr th:only-of-type {\n",
       "        vertical-align: middle;\n",
       "    }\n",
       "\n",
       "    .dataframe tbody tr th {\n",
       "        vertical-align: top;\n",
       "    }\n",
       "\n",
       "    .dataframe thead th {\n",
       "        text-align: right;\n",
       "    }\n",
       "</style>\n",
       "<table border=\"1\" class=\"dataframe\">\n",
       "  <thead>\n",
       "    <tr style=\"text-align: right;\">\n",
       "      <th></th>\n",
       "      <th>movieId</th>\n",
       "      <th>title</th>\n",
       "      <th>genres</th>\n",
       "    </tr>\n",
       "  </thead>\n",
       "  <tbody>\n",
       "    <tr>\n",
       "      <th>0</th>\n",
       "      <td>1</td>\n",
       "      <td>Toy Story (1995)</td>\n",
       "      <td>Adventure|Animation|Children|Comedy|Fantasy</td>\n",
       "    </tr>\n",
       "    <tr>\n",
       "      <th>1</th>\n",
       "      <td>2</td>\n",
       "      <td>Jumanji (1995)</td>\n",
       "      <td>Adventure|Children|Fantasy</td>\n",
       "    </tr>\n",
       "    <tr>\n",
       "      <th>2</th>\n",
       "      <td>3</td>\n",
       "      <td>Grumpier Old Men (1995)</td>\n",
       "      <td>Comedy|Romance</td>\n",
       "    </tr>\n",
       "    <tr>\n",
       "      <th>3</th>\n",
       "      <td>4</td>\n",
       "      <td>Waiting to Exhale (1995)</td>\n",
       "      <td>Comedy|Drama|Romance</td>\n",
       "    </tr>\n",
       "    <tr>\n",
       "      <th>4</th>\n",
       "      <td>5</td>\n",
       "      <td>Father of the Bride Part II (1995)</td>\n",
       "      <td>Comedy</td>\n",
       "    </tr>\n",
       "  </tbody>\n",
       "</table>\n",
       "</div>"
      ],
      "text/plain": [
       "   movieId                               title  \\\n",
       "0        1                    Toy Story (1995)   \n",
       "1        2                      Jumanji (1995)   \n",
       "2        3             Grumpier Old Men (1995)   \n",
       "3        4            Waiting to Exhale (1995)   \n",
       "4        5  Father of the Bride Part II (1995)   \n",
       "\n",
       "                                        genres  \n",
       "0  Adventure|Animation|Children|Comedy|Fantasy  \n",
       "1                   Adventure|Children|Fantasy  \n",
       "2                               Comedy|Romance  \n",
       "3                         Comedy|Drama|Romance  \n",
       "4                                       Comedy  "
      ]
     },
     "metadata": {},
     "output_type": "display_data"
    }
   ],
   "source": [
    "# Movie Titles\n",
    "movies_df = pd.read_csv('movies.csv')\n",
    "\n",
    "print(movies_df.shape)\n",
    "display(movies_df.head())"
   ]
  },
  {
   "cell_type": "code",
   "execution_count": 3,
   "id": "9d3e3ed9",
   "metadata": {
    "scrolled": true
   },
   "outputs": [
    {
     "name": "stdout",
     "output_type": "stream",
     "text": [
      "(3683, 2)\n"
     ]
    },
    {
     "data": {
      "text/html": [
       "<div>\n",
       "<style scoped>\n",
       "    .dataframe tbody tr th:only-of-type {\n",
       "        vertical-align: middle;\n",
       "    }\n",
       "\n",
       "    .dataframe tbody tr th {\n",
       "        vertical-align: top;\n",
       "    }\n",
       "\n",
       "    .dataframe thead th {\n",
       "        text-align: right;\n",
       "    }\n",
       "</style>\n",
       "<table border=\"1\" class=\"dataframe\">\n",
       "  <thead>\n",
       "    <tr style=\"text-align: right;\">\n",
       "      <th></th>\n",
       "      <th>movieId</th>\n",
       "      <th>tag</th>\n",
       "    </tr>\n",
       "  </thead>\n",
       "  <tbody>\n",
       "    <tr>\n",
       "      <th>0</th>\n",
       "      <td>60756</td>\n",
       "      <td>funny</td>\n",
       "    </tr>\n",
       "    <tr>\n",
       "      <th>1</th>\n",
       "      <td>60756</td>\n",
       "      <td>Highly quotable</td>\n",
       "    </tr>\n",
       "    <tr>\n",
       "      <th>2</th>\n",
       "      <td>60756</td>\n",
       "      <td>will ferrell</td>\n",
       "    </tr>\n",
       "    <tr>\n",
       "      <th>3</th>\n",
       "      <td>89774</td>\n",
       "      <td>Boxing story</td>\n",
       "    </tr>\n",
       "    <tr>\n",
       "      <th>4</th>\n",
       "      <td>89774</td>\n",
       "      <td>MMA</td>\n",
       "    </tr>\n",
       "  </tbody>\n",
       "</table>\n",
       "</div>"
      ],
      "text/plain": [
       "   movieId              tag\n",
       "0    60756            funny\n",
       "1    60756  Highly quotable\n",
       "2    60756     will ferrell\n",
       "3    89774     Boxing story\n",
       "4    89774              MMA"
      ]
     },
     "metadata": {},
     "output_type": "display_data"
    }
   ],
   "source": [
    "# Movie Tags\n",
    "tags_df = pd.read_csv('tags.csv',usecols=['movieId', 'tag'])\n",
    "\n",
    "print(tags_df.shape)\n",
    "display(tags_df.head())"
   ]
  },
  {
   "cell_type": "code",
   "execution_count": 4,
   "id": "09958424",
   "metadata": {
    "scrolled": true
   },
   "outputs": [
    {
     "name": "stdout",
     "output_type": "stream",
     "text": [
      "(100836, 2)\n"
     ]
    },
    {
     "data": {
      "text/html": [
       "<div>\n",
       "<style scoped>\n",
       "    .dataframe tbody tr th:only-of-type {\n",
       "        vertical-align: middle;\n",
       "    }\n",
       "\n",
       "    .dataframe tbody tr th {\n",
       "        vertical-align: top;\n",
       "    }\n",
       "\n",
       "    .dataframe thead th {\n",
       "        text-align: right;\n",
       "    }\n",
       "</style>\n",
       "<table border=\"1\" class=\"dataframe\">\n",
       "  <thead>\n",
       "    <tr style=\"text-align: right;\">\n",
       "      <th></th>\n",
       "      <th>movieId</th>\n",
       "      <th>rating</th>\n",
       "    </tr>\n",
       "  </thead>\n",
       "  <tbody>\n",
       "    <tr>\n",
       "      <th>0</th>\n",
       "      <td>1</td>\n",
       "      <td>4.0</td>\n",
       "    </tr>\n",
       "    <tr>\n",
       "      <th>1</th>\n",
       "      <td>3</td>\n",
       "      <td>4.0</td>\n",
       "    </tr>\n",
       "    <tr>\n",
       "      <th>2</th>\n",
       "      <td>6</td>\n",
       "      <td>4.0</td>\n",
       "    </tr>\n",
       "    <tr>\n",
       "      <th>3</th>\n",
       "      <td>47</td>\n",
       "      <td>5.0</td>\n",
       "    </tr>\n",
       "    <tr>\n",
       "      <th>4</th>\n",
       "      <td>50</td>\n",
       "      <td>5.0</td>\n",
       "    </tr>\n",
       "  </tbody>\n",
       "</table>\n",
       "</div>"
      ],
      "text/plain": [
       "   movieId  rating\n",
       "0        1     4.0\n",
       "1        3     4.0\n",
       "2        6     4.0\n",
       "3       47     5.0\n",
       "4       50     5.0"
      ]
     },
     "metadata": {},
     "output_type": "display_data"
    }
   ],
   "source": [
    "# Movie Ratings\n",
    "ratings_df = pd.read_csv('ratings.csv',usecols=['movieId', 'rating'])\n",
    "\n",
    "print(ratings_df.shape)\n",
    "display(ratings_df.head())"
   ]
  },
  {
   "cell_type": "code",
   "execution_count": 5,
   "id": "edbbc8a2",
   "metadata": {
    "scrolled": true
   },
   "outputs": [
    {
     "data": {
      "text/html": [
       "<div>\n",
       "<style scoped>\n",
       "    .dataframe tbody tr th:only-of-type {\n",
       "        vertical-align: middle;\n",
       "    }\n",
       "\n",
       "    .dataframe tbody tr th {\n",
       "        vertical-align: top;\n",
       "    }\n",
       "\n",
       "    .dataframe thead th {\n",
       "        text-align: right;\n",
       "    }\n",
       "</style>\n",
       "<table border=\"1\" class=\"dataframe\">\n",
       "  <thead>\n",
       "    <tr style=\"text-align: right;\">\n",
       "      <th></th>\n",
       "      <th>movieId</th>\n",
       "      <th>rating</th>\n",
       "    </tr>\n",
       "  </thead>\n",
       "  <tbody>\n",
       "    <tr>\n",
       "      <th>0</th>\n",
       "      <td>1</td>\n",
       "      <td>3.920930</td>\n",
       "    </tr>\n",
       "    <tr>\n",
       "      <th>1</th>\n",
       "      <td>2</td>\n",
       "      <td>3.431818</td>\n",
       "    </tr>\n",
       "    <tr>\n",
       "      <th>2</th>\n",
       "      <td>3</td>\n",
       "      <td>3.259615</td>\n",
       "    </tr>\n",
       "    <tr>\n",
       "      <th>3</th>\n",
       "      <td>4</td>\n",
       "      <td>2.357143</td>\n",
       "    </tr>\n",
       "    <tr>\n",
       "      <th>4</th>\n",
       "      <td>5</td>\n",
       "      <td>3.071429</td>\n",
       "    </tr>\n",
       "  </tbody>\n",
       "</table>\n",
       "</div>"
      ],
      "text/plain": [
       "   movieId    rating\n",
       "0        1  3.920930\n",
       "1        2  3.431818\n",
       "2        3  3.259615\n",
       "3        4  2.357143\n",
       "4        5  3.071429"
      ]
     },
     "execution_count": 5,
     "metadata": {},
     "output_type": "execute_result"
    }
   ],
   "source": [
    "# Taking the average ratings per movie ID\n",
    "ratings_df = pd.DataFrame(ratings_df.groupby('movieId')['rating'].mean()).reset_index()\n",
    "ratings_df.head()"
   ]
  },
  {
   "cell_type": "code",
   "execution_count": 6,
   "id": "9a39c628",
   "metadata": {
    "scrolled": true
   },
   "outputs": [
    {
     "data": {
      "text/html": [
       "<div>\n",
       "<style scoped>\n",
       "    .dataframe tbody tr th:only-of-type {\n",
       "        vertical-align: middle;\n",
       "    }\n",
       "\n",
       "    .dataframe tbody tr th {\n",
       "        vertical-align: top;\n",
       "    }\n",
       "\n",
       "    .dataframe thead th {\n",
       "        text-align: right;\n",
       "    }\n",
       "</style>\n",
       "<table border=\"1\" class=\"dataframe\">\n",
       "  <thead>\n",
       "    <tr style=\"text-align: right;\">\n",
       "      <th></th>\n",
       "      <th>movieId</th>\n",
       "      <th>title</th>\n",
       "      <th>genres</th>\n",
       "    </tr>\n",
       "  </thead>\n",
       "  <tbody>\n",
       "    <tr>\n",
       "      <th>0</th>\n",
       "      <td>1</td>\n",
       "      <td>Toy Story (1995)</td>\n",
       "      <td>Adventure Animation Children Comedy Fantasy</td>\n",
       "    </tr>\n",
       "    <tr>\n",
       "      <th>1</th>\n",
       "      <td>2</td>\n",
       "      <td>Jumanji (1995)</td>\n",
       "      <td>Adventure Children Fantasy</td>\n",
       "    </tr>\n",
       "    <tr>\n",
       "      <th>2</th>\n",
       "      <td>3</td>\n",
       "      <td>Grumpier Old Men (1995)</td>\n",
       "      <td>Comedy Romance</td>\n",
       "    </tr>\n",
       "    <tr>\n",
       "      <th>3</th>\n",
       "      <td>4</td>\n",
       "      <td>Waiting to Exhale (1995)</td>\n",
       "      <td>Comedy Drama Romance</td>\n",
       "    </tr>\n",
       "    <tr>\n",
       "      <th>4</th>\n",
       "      <td>5</td>\n",
       "      <td>Father of the Bride Part II (1995)</td>\n",
       "      <td>Comedy</td>\n",
       "    </tr>\n",
       "  </tbody>\n",
       "</table>\n",
       "</div>"
      ],
      "text/plain": [
       "   movieId                               title  \\\n",
       "0        1                    Toy Story (1995)   \n",
       "1        2                      Jumanji (1995)   \n",
       "2        3             Grumpier Old Men (1995)   \n",
       "3        4            Waiting to Exhale (1995)   \n",
       "4        5  Father of the Bride Part II (1995)   \n",
       "\n",
       "                                        genres  \n",
       "0  Adventure Animation Children Comedy Fantasy  \n",
       "1                   Adventure Children Fantasy  \n",
       "2                               Comedy Romance  \n",
       "3                         Comedy Drama Romance  \n",
       "4                                       Comedy  "
      ]
     },
     "execution_count": 6,
     "metadata": {},
     "output_type": "execute_result"
    }
   ],
   "source": [
    "# Using replace on the genre feature to remove the symbol\n",
    "movies_df['genres'] = [split_genre.replace('|',' ') for split_genre in movies_df['genres']]\n",
    "movies_df.head()"
   ]
  },
  {
   "cell_type": "code",
   "execution_count": 7,
   "id": "b74598e8",
   "metadata": {
    "scrolled": false
   },
   "outputs": [
    {
     "name": "stdout",
     "output_type": "stream",
     "text": [
      "(3662, 5)\n"
     ]
    },
    {
     "data": {
      "text/html": [
       "<div>\n",
       "<style scoped>\n",
       "    .dataframe tbody tr th:only-of-type {\n",
       "        vertical-align: middle;\n",
       "    }\n",
       "\n",
       "    .dataframe tbody tr th {\n",
       "        vertical-align: top;\n",
       "    }\n",
       "\n",
       "    .dataframe thead th {\n",
       "        text-align: right;\n",
       "    }\n",
       "</style>\n",
       "<table border=\"1\" class=\"dataframe\">\n",
       "  <thead>\n",
       "    <tr style=\"text-align: right;\">\n",
       "      <th></th>\n",
       "      <th>movieId</th>\n",
       "      <th>title</th>\n",
       "      <th>genres</th>\n",
       "      <th>tag</th>\n",
       "      <th>rating</th>\n",
       "    </tr>\n",
       "  </thead>\n",
       "  <tbody>\n",
       "    <tr>\n",
       "      <th>0</th>\n",
       "      <td>1</td>\n",
       "      <td>Toy Story (1995)</td>\n",
       "      <td>Adventure Animation Children Comedy Fantasy</td>\n",
       "      <td>pixar</td>\n",
       "      <td>3.920930</td>\n",
       "    </tr>\n",
       "    <tr>\n",
       "      <th>1</th>\n",
       "      <td>1</td>\n",
       "      <td>Toy Story (1995)</td>\n",
       "      <td>Adventure Animation Children Comedy Fantasy</td>\n",
       "      <td>pixar</td>\n",
       "      <td>3.920930</td>\n",
       "    </tr>\n",
       "    <tr>\n",
       "      <th>2</th>\n",
       "      <td>1</td>\n",
       "      <td>Toy Story (1995)</td>\n",
       "      <td>Adventure Animation Children Comedy Fantasy</td>\n",
       "      <td>fun</td>\n",
       "      <td>3.920930</td>\n",
       "    </tr>\n",
       "    <tr>\n",
       "      <th>3</th>\n",
       "      <td>2</td>\n",
       "      <td>Jumanji (1995)</td>\n",
       "      <td>Adventure Children Fantasy</td>\n",
       "      <td>fantasy</td>\n",
       "      <td>3.431818</td>\n",
       "    </tr>\n",
       "    <tr>\n",
       "      <th>4</th>\n",
       "      <td>2</td>\n",
       "      <td>Jumanji (1995)</td>\n",
       "      <td>Adventure Children Fantasy</td>\n",
       "      <td>magic board game</td>\n",
       "      <td>3.431818</td>\n",
       "    </tr>\n",
       "  </tbody>\n",
       "</table>\n",
       "</div>"
      ],
      "text/plain": [
       "   movieId             title                                       genres  \\\n",
       "0        1  Toy Story (1995)  Adventure Animation Children Comedy Fantasy   \n",
       "1        1  Toy Story (1995)  Adventure Animation Children Comedy Fantasy   \n",
       "2        1  Toy Story (1995)  Adventure Animation Children Comedy Fantasy   \n",
       "3        2    Jumanji (1995)                   Adventure Children Fantasy   \n",
       "4        2    Jumanji (1995)                   Adventure Children Fantasy   \n",
       "\n",
       "                tag    rating  \n",
       "0             pixar  3.920930  \n",
       "1             pixar  3.920930  \n",
       "2               fun  3.920930  \n",
       "3           fantasy  3.431818  \n",
       "4  magic board game  3.431818  "
      ]
     },
     "metadata": {},
     "output_type": "display_data"
    }
   ],
   "source": [
    "# Merging the dataframes\n",
    "combined_df = movies_df.merge(tags_df, on='movieId').merge(ratings_df, on='movieId')\n",
    "print(combined_df.shape)\n",
    "display(combined_df.head())"
   ]
  },
  {
   "cell_type": "code",
   "execution_count": 8,
   "id": "dd443726",
   "metadata": {},
   "outputs": [
    {
     "name": "stdout",
     "output_type": "stream",
     "text": [
      "(1554, 5)\n"
     ]
    },
    {
     "data": {
      "text/html": [
       "<div>\n",
       "<style scoped>\n",
       "    .dataframe tbody tr th:only-of-type {\n",
       "        vertical-align: middle;\n",
       "    }\n",
       "\n",
       "    .dataframe tbody tr th {\n",
       "        vertical-align: top;\n",
       "    }\n",
       "\n",
       "    .dataframe thead th {\n",
       "        text-align: right;\n",
       "    }\n",
       "</style>\n",
       "<table border=\"1\" class=\"dataframe\">\n",
       "  <thead>\n",
       "    <tr style=\"text-align: right;\">\n",
       "      <th></th>\n",
       "      <th>movieId</th>\n",
       "      <th>title</th>\n",
       "      <th>genres</th>\n",
       "      <th>tag</th>\n",
       "      <th>rating</th>\n",
       "    </tr>\n",
       "  </thead>\n",
       "  <tbody>\n",
       "    <tr>\n",
       "      <th>0</th>\n",
       "      <td>1</td>\n",
       "      <td>Toy Story (1995)</td>\n",
       "      <td>Adventure Animation Children Comedy Fantasy</td>\n",
       "      <td>pixar</td>\n",
       "      <td>3.920930</td>\n",
       "    </tr>\n",
       "    <tr>\n",
       "      <th>3</th>\n",
       "      <td>2</td>\n",
       "      <td>Jumanji (1995)</td>\n",
       "      <td>Adventure Children Fantasy</td>\n",
       "      <td>fantasy</td>\n",
       "      <td>3.431818</td>\n",
       "    </tr>\n",
       "    <tr>\n",
       "      <th>7</th>\n",
       "      <td>3</td>\n",
       "      <td>Grumpier Old Men (1995)</td>\n",
       "      <td>Comedy Romance</td>\n",
       "      <td>moldy</td>\n",
       "      <td>3.259615</td>\n",
       "    </tr>\n",
       "    <tr>\n",
       "      <th>9</th>\n",
       "      <td>5</td>\n",
       "      <td>Father of the Bride Part II (1995)</td>\n",
       "      <td>Comedy</td>\n",
       "      <td>pregnancy</td>\n",
       "      <td>3.071429</td>\n",
       "    </tr>\n",
       "    <tr>\n",
       "      <th>11</th>\n",
       "      <td>7</td>\n",
       "      <td>Sabrina (1995)</td>\n",
       "      <td>Comedy Romance</td>\n",
       "      <td>remake</td>\n",
       "      <td>3.185185</td>\n",
       "    </tr>\n",
       "  </tbody>\n",
       "</table>\n",
       "</div>"
      ],
      "text/plain": [
       "    movieId                               title  \\\n",
       "0         1                    Toy Story (1995)   \n",
       "3         2                      Jumanji (1995)   \n",
       "7         3             Grumpier Old Men (1995)   \n",
       "9         5  Father of the Bride Part II (1995)   \n",
       "11        7                      Sabrina (1995)   \n",
       "\n",
       "                                         genres        tag    rating  \n",
       "0   Adventure Animation Children Comedy Fantasy      pixar  3.920930  \n",
       "3                    Adventure Children Fantasy    fantasy  3.431818  \n",
       "7                                Comedy Romance      moldy  3.259615  \n",
       "9                                        Comedy  pregnancy  3.071429  \n",
       "11                               Comedy Romance     remake  3.185185  "
      ]
     },
     "metadata": {},
     "output_type": "display_data"
    }
   ],
   "source": [
    "# Movie ID duplicates are present which may interfer with the system so duplicates are dropped\n",
    "no_dup_df = combined_df.drop_duplicates('movieId')\n",
    "print(no_dup_df.shape)\n",
    "display(no_dup_df.head())"
   ]
  },
  {
   "cell_type": "code",
   "execution_count": 9,
   "id": "6acd9575",
   "metadata": {},
   "outputs": [
    {
     "name": "stderr",
     "output_type": "stream",
     "text": [
      "C:\\Users\\justi\\AppData\\Local\\Temp\\ipykernel_19388\\1726335415.py:2: SettingWithCopyWarning: \n",
      "A value is trying to be set on a copy of a slice from a DataFrame.\n",
      "Try using .loc[row_indexer,col_indexer] = value instead\n",
      "\n",
      "See the caveats in the documentation: https://pandas.pydata.org/pandas-docs/stable/user_guide/indexing.html#returning-a-view-versus-a-copy\n",
      "  no_dup_df['data'] = no_dup_df['genres']+' '+no_dup_df['tag'].reset_index(drop=True)\n"
     ]
    },
    {
     "data": {
      "text/html": [
       "<div>\n",
       "<style scoped>\n",
       "    .dataframe tbody tr th:only-of-type {\n",
       "        vertical-align: middle;\n",
       "    }\n",
       "\n",
       "    .dataframe tbody tr th {\n",
       "        vertical-align: top;\n",
       "    }\n",
       "\n",
       "    .dataframe thead th {\n",
       "        text-align: right;\n",
       "    }\n",
       "</style>\n",
       "<table border=\"1\" class=\"dataframe\">\n",
       "  <thead>\n",
       "    <tr style=\"text-align: right;\">\n",
       "      <th></th>\n",
       "      <th>movieId</th>\n",
       "      <th>title</th>\n",
       "      <th>rating</th>\n",
       "      <th>data</th>\n",
       "    </tr>\n",
       "  </thead>\n",
       "  <tbody>\n",
       "    <tr>\n",
       "      <th>0</th>\n",
       "      <td>1</td>\n",
       "      <td>Toy Story (1995)</td>\n",
       "      <td>3.920930</td>\n",
       "      <td>Adventure Animation Children Comedy Fantasy pixar</td>\n",
       "    </tr>\n",
       "    <tr>\n",
       "      <th>1</th>\n",
       "      <td>2</td>\n",
       "      <td>Jumanji (1995)</td>\n",
       "      <td>3.431818</td>\n",
       "      <td>Adventure Children Fantasy pregnancy</td>\n",
       "    </tr>\n",
       "    <tr>\n",
       "      <th>2</th>\n",
       "      <td>3</td>\n",
       "      <td>Grumpier Old Men (1995)</td>\n",
       "      <td>3.259615</td>\n",
       "      <td>Comedy Romance Mafia</td>\n",
       "    </tr>\n",
       "    <tr>\n",
       "      <th>3</th>\n",
       "      <td>5</td>\n",
       "      <td>Father of the Bride Part II (1995)</td>\n",
       "      <td>3.071429</td>\n",
       "      <td>Comedy Hollywood</td>\n",
       "    </tr>\n",
       "    <tr>\n",
       "      <th>4</th>\n",
       "      <td>7</td>\n",
       "      <td>Sabrina (1995)</td>\n",
       "      <td>3.185185</td>\n",
       "      <td>Comedy Romance alcoholism</td>\n",
       "    </tr>\n",
       "  </tbody>\n",
       "</table>\n",
       "</div>"
      ],
      "text/plain": [
       "   movieId                               title    rating  \\\n",
       "0        1                    Toy Story (1995)  3.920930   \n",
       "1        2                      Jumanji (1995)  3.431818   \n",
       "2        3             Grumpier Old Men (1995)  3.259615   \n",
       "3        5  Father of the Bride Part II (1995)  3.071429   \n",
       "4        7                      Sabrina (1995)  3.185185   \n",
       "\n",
       "                                                data  \n",
       "0  Adventure Animation Children Comedy Fantasy pixar  \n",
       "1               Adventure Children Fantasy pregnancy  \n",
       "2                               Comedy Romance Mafia  \n",
       "3                                   Comedy Hollywood  \n",
       "4                          Comedy Romance alcoholism  "
      ]
     },
     "execution_count": 9,
     "metadata": {},
     "output_type": "execute_result"
    }
   ],
   "source": [
    "# Combining the tags and genres to create collective data that can be analyzed\n",
    "no_dup_df['data'] = no_dup_df['genres']+' '+no_dup_df['tag'].reset_index(drop=True)\n",
    "\n",
    "# Dropping the not needed columns and resetting the index\n",
    "no_dup_df = no_dup_df.drop(columns=['genres', 'tag'])\n",
    "no_dup_df.reset_index(drop=True, inplace=True)\n",
    "no_dup_df.head()"
   ]
  },
  {
   "cell_type": "code",
   "execution_count": 10,
   "id": "328d9f6c",
   "metadata": {},
   "outputs": [],
   "source": [
    "# Null fields for the data column were discover so they are replaced with a space\n",
    "ready_df = no_dup_df.fillna(' ')"
   ]
  },
  {
   "cell_type": "markdown",
   "id": "635390b1",
   "metadata": {},
   "source": [
    "# Calculating similarity scores"
   ]
  },
  {
   "cell_type": "code",
   "execution_count": 11,
   "id": "634b8cab",
   "metadata": {},
   "outputs": [],
   "source": [
    "# Creating a CountVectorizer instance\n",
    "count_vect = CountVectorizer(stop_words='english')\n",
    "\n",
    "# Applying the vectorizer\n",
    "count_vectorized_features = count_vect.fit_transform(ready_df['data'])"
   ]
  },
  {
   "cell_type": "code",
   "execution_count": 12,
   "id": "63672cab",
   "metadata": {},
   "outputs": [
    {
     "data": {
      "text/plain": [
       "(1554, 494)"
      ]
     },
     "execution_count": 12,
     "metadata": {},
     "output_type": "execute_result"
    }
   ],
   "source": [
    "count_vectorized_features.shape"
   ]
  },
  {
   "cell_type": "code",
   "execution_count": 13,
   "id": "252a0158",
   "metadata": {},
   "outputs": [],
   "source": [
    "# Computing the similarity score\n",
    "similarity = cosine_similarity(count_vectorized_features)"
   ]
  },
  {
   "cell_type": "markdown",
   "id": "7abc320e",
   "metadata": {},
   "source": [
    "# Recommender creation"
   ]
  },
  {
   "cell_type": "code",
   "execution_count": 14,
   "id": "18a28253",
   "metadata": {},
   "outputs": [],
   "source": [
    "# This function takes the respective movie index and analyzes the other indexes correlating similarites\n",
    "def similarity_recommender(index):\n",
    "    # Looking at the similarites between the argument vs other indexes\n",
    "    # sorting the similarity scores in descending order\n",
    "    sim_scores = sorted(list(enumerate(similarity[index])), reverse=True, key=lambda vector:vector[1])\n",
    "    # Printing the title of the movie selected by the user\n",
    "    print('-'*40,f'\\nRecommended Movies For: {no_dup_df.iloc[index][1]}\\n','-'*40)\n",
    "    # Looping over the similarity scores in the range and printing the title and rating\n",
    "    for i in sim_scores[1:11]:\n",
    "        print(no_dup_df.iloc[i[0]][1], round(no_dup_df.iloc[i[0]][2], 1))"
   ]
  },
  {
   "cell_type": "code",
   "execution_count": 15,
   "id": "95db12fb",
   "metadata": {},
   "outputs": [],
   "source": [
    "# This function takes the user input and connects it to the exact or closest movie title\n",
    "def movie_input_cleanser(input):\n",
    "    # Creating a list of titles and the respective index\n",
    "    indexed_title = list(enumerate(no_dup_df['title']))\n",
    "    for i in range(len(indexed_title)):\n",
    "        # Looping over every index/title combination, making it lower case, and then searching if the user input fits\n",
    "        result = indexed_title[i][1].lower().find(input.lower())\n",
    "        # results variable shows 0 for matches and -1 for no match\n",
    "        if result == 0:\n",
    "            similarity_recommender(i)\n",
    "            break\n",
    "    else:\n",
    "        print('Sorry, please try spelling differently or a choose a different movie')\n",
    "        # Sending the user back to the starting fuction to enter another title\n",
    "        begin_recommender()"
   ]
  },
  {
   "cell_type": "code",
   "execution_count": 16,
   "id": "18294fed",
   "metadata": {},
   "outputs": [],
   "source": [
    "# Function created to collect user input\n",
    "def begin_recommender():\n",
    "    user_interact = input('Are you ready to use the recommender? (Y or N) ')  \n",
    "    # Multiple responses added to catch multiple responses from the user\n",
    "    if user_interact.lower() in ('y', 'yes', 'yup'):\n",
    "        get_movie = input('Please enter the movie name or part: ')\n",
    "        movie_input_cleanser(get_movie)        \n",
    "    elif user_interact.lower() in ('n', 'no', 'nope'):\n",
    "        print('Farewell//Session Has Ended')\n",
    "    # Starting the user input over to give the user another chance to enter a valid response\n",
    "    else:\n",
    "        print('Invalid entry, try again')\n",
    "        begin_recommender()"
   ]
  },
  {
   "cell_type": "markdown",
   "id": "b122d850",
   "metadata": {},
   "source": [
    "# <h1><center>Movie Recommender</center></h1>"
   ]
  },
  {
   "cell_type": "code",
   "execution_count": null,
   "id": "ef242585",
   "metadata": {
    "scrolled": false
   },
   "outputs": [],
   "source": [
    "# Run to start the recommender\n",
    "begin_recommender()"
   ]
  }
 ],
 "metadata": {
  "kernelspec": {
   "display_name": "Python 3 (ipykernel)",
   "language": "python",
   "name": "python3"
  },
  "language_info": {
   "codemirror_mode": {
    "name": "ipython",
    "version": 3
   },
   "file_extension": ".py",
   "mimetype": "text/x-python",
   "name": "python",
   "nbconvert_exporter": "python",
   "pygments_lexer": "ipython3",
   "version": "3.11.4"
  }
 },
 "nbformat": 4,
 "nbformat_minor": 5
}
